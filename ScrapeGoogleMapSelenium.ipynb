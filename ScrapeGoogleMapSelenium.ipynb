{
 "cells": [
  {
   "cell_type": "code",
   "execution_count": 2,
   "metadata": {},
   "outputs": [],
   "source": [
    "# Install all the necessary python libraries if anaconda is not able to find them.\n",
    "# !pip3 install google-maps-reviews\n",
    "# Too bad the google-maps-reviews lib requires OutScraper API Key which is only free for the first 500 places and it requires minimum deposit of $500"
   ]
  },
  {
   "cell_type": "code",
   "execution_count": 72,
   "metadata": {},
   "outputs": [],
   "source": [
    "# Import all the necessary python libraries\n",
    "# import requests\n",
    "import time\n",
    "import pandas as pd\n",
    "from bs4 import BeautifulSoup\n",
    "from selenium import webdriver\n",
    "from selenium.webdriver.common.by import By\n",
    "from selenium.webdriver.support.wait import WebDriverWait\n",
    "from selenium.webdriver.support import expected_conditions as EC"
   ]
  },
  {
   "cell_type": "code",
   "execution_count": 73,
   "metadata": {},
   "outputs": [],
   "source": [
    "# Note: By default, The Safari WebDriver is included with the operating system. There is no additional installations required.\n",
    "driver = webdriver.Safari()\n",
    "driver.maximize_window()\n",
    "url = 'https://www.google.com/maps'\n",
    "driver.get(url)\n",
    "time.sleep(5)"
   ]
  },
  {
   "cell_type": "code",
   "execution_count": null,
   "metadata": {},
   "outputs": [],
   "source": [
    "# get the webpage\n",
    "url = 'https://www.google.com/maps'\n",
    "webpage = requests.get(url)\n",
    "soup = BeautifulSoup(webpage.content, 'html.parser')"
   ]
  },
  {
   "cell_type": "code",
   "execution_count": 74,
   "metadata": {},
   "outputs": [],
   "source": [
    "# Functions to return the element\n",
    "def find_element_by_xpath(xpath):\n",
    "    return driver.find_element(By.XPATH, xpath)\n",
    "\n",
    "def find_element_by_css(css):\n",
    "    return driver.find_element(By.CSS_SELECTOR, css)"
   ]
  },
  {
   "cell_type": "code",
   "execution_count": null,
   "metadata": {},
   "outputs": [],
   "source": [
    "# Define what are we looking for in the query\n",
    "FOOD_CATEGORY_LIST = [\"halal food\",\"western food\",\"fast food\",\"vegetarian food\",\n",
    "                      \"chinese food\",\"indian food\",\"malay food\",\"japanese food\",\n",
    "                      \"korean food\",\"cafe\",\"bakery\"]\n",
    "\n",
    "DRINK_CATEGORY_LIST = [\"coffee\",\"bubble tea\"]\n",
    "\n",
    "LOCATION_LIST = [\"Subang Jaya\",\"Puchong\",\"Sri Petaling\",\"Bukit Jalil\",\"Seri Kembangan\",\"Bukit Bintang\",\"Damansara\",\"Kepong\",\"Klang\",\"Cheras\"]\n",
    "                 \n",
    "# SEARCH_INPUT = f\"{CATEGORY} near {LOCATION}\""
   ]
  },
  {
   "cell_type": "code",
   "execution_count": 75,
   "metadata": {},
   "outputs": [
    {
     "name": "stdout",
     "output_type": "stream",
     "text": [
      "<selenium.webdriver.remote.webelement.WebElement (session=\"022D59BE-59E5-4739-A769-0822D51485FD\", element=\"node-C691E570-C4F1-48A5-A192-3506F64BB67B\")>\n"
     ]
    }
   ],
   "source": [
    "# Locate the search element\n",
    "search_box_element = find_element_by_xpath('//*[@id=\"searchboxinput\"]')\n",
    "search_box_element.send_keys(SEARCH_INPUT)\n",
    "time.sleep(3)\n"
   ]
  },
  {
   "cell_type": "code",
   "execution_count": 76,
   "metadata": {},
   "outputs": [],
   "source": [
    "search_button_element = find_element_by_xpath('//*[@id=\"searchbox-searchbutton\"]')\n",
    "search_button_element.click()\n"
   ]
  },
  {
   "cell_type": "code",
   "execution_count": 6,
   "metadata": {},
   "outputs": [],
   "source": [
    "driver.quit()\n"
   ]
  }
 ],
 "metadata": {
  "kernelspec": {
   "display_name": "afr",
   "language": "python",
   "name": "python3"
  },
  "language_info": {
   "codemirror_mode": {
    "name": "ipython",
    "version": 3
   },
   "file_extension": ".py",
   "mimetype": "text/x-python",
   "name": "python",
   "nbconvert_exporter": "python",
   "pygments_lexer": "ipython3",
   "version": "3.10.13"
  }
 },
 "nbformat": 4,
 "nbformat_minor": 2
}
