{
 "cells": [
  {
   "cell_type": "code",
   "execution_count": 749,
   "metadata": {},
   "outputs": [],
   "source": [
    "# Install all the necessary python libraries if anaconda is not able to find them.\n",
    "# !pip3 install google-maps-reviews\n",
    "# Too bad the google-maps-reviews lib requires OutScraper API Key which is only free for the first 500 places and it requires minimum deposit of $500"
   ]
  },
  {
   "cell_type": "code",
   "execution_count": 750,
   "metadata": {},
   "outputs": [],
   "source": [
    "# Import all the necessary python libraries\n",
    "# import requests\n",
    "import time\n",
    "import pandas as pd\n",
    "from bs4 import BeautifulSoup\n",
    "from selenium import webdriver\n",
    "from selenium.webdriver.common.by import By\n",
    "from selenium.webdriver.support.wait import WebDriverWait\n",
    "from selenium.webdriver.support import expected_conditions as EC\n",
    "from selenium.webdriver.common.keys import Keys\n",
    "from selenium.common.exceptions import TimeoutException\n",
    "from selenium.common.exceptions import NoSuchElementException\n"
   ]
  },
  {
   "cell_type": "code",
   "execution_count": 751,
   "metadata": {},
   "outputs": [],
   "source": [
    "# Note: By default, The Safari WebDriver is included with the operating system. There is no additional installations required.\n",
    "driver = webdriver.Safari()\n",
    "driver.maximize_window()\n",
    "url = 'https://www.google.com/maps'\n",
    "driver.get(url)\n",
    "time.sleep(5)"
   ]
  },
  {
   "cell_type": "code",
   "execution_count": 752,
   "metadata": {},
   "outputs": [],
   "source": [
    "# Functions to return the element\n",
    "\n",
    "# def find_web_element(locator_strategy=\"XPATH\",locator_value=None,child_driver=None,iterate=False):\n",
    "\n",
    "#     # Map string locator strategy to By class attributes\n",
    "#     locator_strategy_map = {\n",
    "#         'XPATH': By.XPATH,\n",
    "#         'CSS': By.CSS_SELECTOR,\n",
    "#         'ID': By.ID,\n",
    "#         'NAME': By.NAME,\n",
    "#         'CLASS': By.CLASS_NAME,\n",
    "#         'TAG': By.TAG_NAME,\n",
    "#         'LINK': By.LINK_TEXT,\n",
    "#         'PARTIAL': By.PARTIAL_LINK_TEXT,\n",
    "#     }\n",
    "    \n",
    "#     current_driver = child_driver or driver\n",
    "#     # Default to By.XPATH if not found\n",
    "#     by_locator = locator_strategy_map.get(locator_strategy.upper(), By.XPATH)\n",
    "#     print(by_locator)\n",
    "\n",
    "#     if iterate is False:\n",
    "#         return current_driver.find_element(by_locator, locator_value)\n",
    "#     else:\n",
    "#         return current_driver.find_elements(by_locator, locator_value)\n",
    "\n",
    "# def find_element_by_css(xpath):\n",
    "#     return driver.find_element(By.XPATH, xpath)\n",
    "\n",
    "# def find_element_by_class(class_name):\n",
    "#     return driver.find_element(By.CLASS_NAME, class_name)"
   ]
  },
  {
   "cell_type": "code",
   "execution_count": 753,
   "metadata": {},
   "outputs": [],
   "source": [
    "# Define CONSTANTS\n",
    "FOOD_CATEGORY_LIST = ['halal food','western food','fast food','vegetarian food',\n",
    "                      'chinese food','indian food','malay food','japanese food',\n",
    "                      'korean food','cafe','bakery']\n",
    "\n",
    "DRINK_CATEGORY_LIST = ['coffee','bubble tea']\n",
    "\n",
    "LOCATION_LIST = ['Subang Jaya','Puchong','Sri Petaling','Bukit Jalil','Seri Kembangan','Bukit Bintang','Old Klang Road','Kepong','Klang','Cheras']\n",
    "\n",
    "SEARCH_BOX_INPUT_XPATH = '//*[@id=\"searchboxinput\"]'\n",
    "CLOSE_BUTTON_XPATH = '//*[@id=\"searchbox\"]/div[2]/button'\n",
    "SCROLLABLE_COMPONENT_XPATH = '//*[@id=\"QA0Szd\"]/div/div/div[1]/div[2]/div/div[1]'\n",
    "LOADING_SPINNER_XPATH = '//*[@id=\"QA0Szd\"]/div/div/div[1]/div[2]/div/div[1]/div/div/div[1]/div[1]/div[146]/div/div'\n",
    "END_OF_LIST_XPATH = '//*[@id=\"QA0Szd\"]/div/div/div[1]/div[2]/div/div[1]/div/div/div[1]/div[1]/div[169]/div/p/span'\n",
    "RESULT_LABEL_XPATH = '//*[@id=\"QA0Szd\"]/div/div/div[1]/div[2]/div/div[1]/div/div/div[1]/div[1]/div[2]/div[2]/div[1]/h1'\n",
    "RESULT_CLASS_NAME = 'hfpxzc'\n",
    "RESULT_LIST_XPATH = '//*[@id=\"QA0Szd\"]/div/div/div[1]/div[2]/div/div[1]/div/div/div[1]/div[1]'\n",
    "\n",
    "FNB_OPENING_HOURS_BTN_DOWN_XPATH = '//*[@aria-expanded=\"false\" and @role=\"button\" and @tabindex=\"0\" and @jsaction[starts-with(., \"pane.openhours\")]]'\n",
    "FNB_OPENING_HOURS_BTN_RIGHT_XPATH = '//*[@data-item-id=\"oh\"]'\n",
    "FNB_OPENING_HOURS_DETAILS_XPATH = '//*[@aria-label[contains(., \"Hide open hours for the week\")]]'\n",
    "FNB_OPENING_HOURS_CLOSED_CLASS_NAME = ' fCEvvc' #Temporarily Closed / #Permanently Closed\n",
    "FNB_OPENING_HOURS_CLOSED_XPATH = '//span[@class=\" fCEvvc\"]' #'//*[@jslog[starts-with(., \"75719\")]]' #Temporarily Closed / #Permanently Closed\n",
    "FNB_ADDRESS_XPATH = '//*[@data-item-id[starts-with(., \"address\")]]'\n",
    "FNB_PHONE_XPATH = '//*[@data-item-id[starts-with(., \"phone\")]]'\n",
    "FNB_MENU_XPATH = '//*[@data-item-id[starts-with(., \"menu\")]]'\n",
    "FNB_WEBSITE_XPATH = '//*[@data-item-id[starts-with(., \"authority\")]]'\n",
    "FNB_ORDER_XPATH = '//*[@aria-label[starts-with(., \"Place an order\")]]'"
   ]
  },
  {
   "cell_type": "code",
   "execution_count": 754,
   "metadata": {},
   "outputs": [],
   "source": [
    "# Initialize Variables\n",
    "# df = pd.DataFrame()#columns=['Name'])\n",
    "fnb_list = []\n",
    "result_element = []"
   ]
  },
  {
   "cell_type": "code",
   "execution_count": 755,
   "metadata": {},
   "outputs": [],
   "source": [
    "def perform_search(search_input):\n",
    "\n",
    "    # Locate the search box element\n",
    "    search_box_element = WebDriverWait(driver, 10).until(\n",
    "        EC.presence_of_element_located((By.XPATH, SEARCH_BOX_INPUT_XPATH))\n",
    "    )\n",
    "    search_box_element.clear()\n",
    "    time.sleep(0.5)\n",
    "    search_box_element.send_keys(search_input + Keys.ENTER)\n",
    "    # Scrolling the bar here\n",
    "    # Reference: https://stackoverflow.com/questions/72543054/how-to-scroll-down-google-maps-using-selenium-python\n",
    "    # side_bar_element = WebDriverWait(driver, 10).until(\n",
    "    #     EC.presence_of_element_located((By.XPATH, RESULT_LIST_XPATH))\n",
    "    # )\n",
    "\n",
    "    keepScrolling=True\n",
    "    while(keepScrolling):\n",
    "        side_bar_element = WebDriverWait(driver, 10).until(\n",
    "            EC.presence_of_element_located((By.XPATH, RESULT_LIST_XPATH))\n",
    "        )\n",
    "        side_bar_element.send_keys(Keys.PAGE_DOWN)\n",
    "        time.sleep(0.5)\n",
    "        side_bar_element.send_keys(Keys.PAGE_DOWN)\n",
    "        time.sleep(0.5)\n",
    "        end_of_list_element = driver.find_element(By.TAG_NAME, \"html\").get_attribute('outerHTML')\n",
    "        if(end_of_list_element.find(\"You've reached the end of the list.\") != -1):\n",
    "            keepScrolling = False\n",
    "\n",
    "    # result_label_element = WebDriverWait(driver, 10).until(\n",
    "    #     EC.element_to_be_clickable((By.XPATH, RESULT_LABEL_XPATH))\n",
    "    # )\n",
    "    # result_label_element.click()\n",
    "\n",
    "    # scrollable_element = WebDriverWait(driver, 10).until(\n",
    "    #     EC.element_to_be_clickable((By.XPATH, SCROLLABLE_COMPONENT_XPATH))\n",
    "    # )\n",
    "    # scrollable_element.click()\n",
    "    # #\n",
    "    # scrollable_element.send_keys(Keys.PAGE_DOWN)\n",
    "    # end_of_list = False\n",
    "\n",
    "    # while end_of_list is False:\n",
    "    #     try:\n",
    "    #         end_of_list_element = driver.find_element(By.XPATH, END_OF_LIST_XPATH)\n",
    "    #         if end_of_list_element:\n",
    "    #             end_of_list = True\n",
    "    #     except:\n",
    "    #         print(\"going to scroll\")\n",
    "    #         scrollable_element.send_keys(Keys.PAGE_DOWN)\n",
    "    #         WebDriverWait(driver, 10).until(\n",
    "    #             EC.invisibility_of_element_located((By.XPATH, LOADING_SPINNER_XPATH))\n",
    "    #         )\n",
    "    #         time.sleep(2)\n",
    "#iterate_category(DRINK_CATEGORY_LIST, LOCATION_LIST)\n"
   ]
  },
  {
   "cell_type": "code",
   "execution_count": 756,
   "metadata": {},
   "outputs": [],
   "source": [
    "def convert_opening_hours_to_dict(opening_hours):\n",
    "\n",
    "    day_parts = opening_hours.replace('\\u202f', ' ').replace('. Hide open hours for the week', '').split(';')\n",
    "\n",
    "    days_order = ['Monday', 'Tuesday', 'Wednesday', 'Thursday', 'Friday', 'Saturday', 'Sunday']\n",
    "\n",
    "    open_hours_dict = {\n",
    "        part.split(',')[0].strip(): part.split(',', 1)[1].strip()\n",
    "        for part in day_parts\n",
    "    }\n",
    "\n",
    "    sorted_open_hours_dict = {day: open_hours_dict[day] for day in days_order if day in open_hours_dict}\n",
    "\n",
    "    return sorted_open_hours_dict\n"
   ]
  },
  {
   "cell_type": "code",
   "execution_count": 757,
   "metadata": {},
   "outputs": [],
   "source": [
    "def get_fnb_details(result_element):\n",
    "    for fnb in reversed(result_element):               \n",
    "        name = fnb.get_attribute('aria-label')\n",
    "        google_map_url = fnb.get_attribute('href')\n",
    "        \n",
    "        fnb.click()\n",
    "        time.sleep(1)\n",
    "\n",
    "        opening_hours = ''\n",
    "        phone = ''\n",
    "        menu_url = ''\n",
    "        website_url = ''\n",
    "        order_url = ''\n",
    "        address = fnb.find_element(By.XPATH, FNB_ADDRESS_XPATH).text\n",
    "    \n",
    "        try:\n",
    "            # CASE 1: OPENING HOURS BUTTON IS POINTING DOWN\n",
    "            opening_hours_btn_elem = fnb.find_element(By.XPATH, FNB_OPENING_HOURS_BTN_DOWN_XPATH)\n",
    "            time.sleep(1)\n",
    "            opening_hours_btn_elem.click()\n",
    "            time.sleep(1)\n",
    "            opening_hours_elem = fnb.find_element(By.XPATH, FNB_OPENING_HOURS_DETAILS_XPATH)\n",
    "            opening_hours = opening_hours_elem.get_attribute('aria-label')\n",
    "            opening_hours_dict = convert_opening_hours_to_dict(opening_hours)\n",
    "\n",
    "        except NoSuchElementException:\n",
    "\n",
    "            # CASE 2: OPENING HOURS BUTTON IS POINTING RIGHT\n",
    "            try:\n",
    "                opening_hours_btn_elem = fnb.find_element(By.XPATH, FNB_OPENING_HOURS_BTN_RIGHT_XPATH)\n",
    "                time.sleep(1)\n",
    "                opening_hours_btn_elem.click()\n",
    "                time.sleep(1)\n",
    "                opening_hours_elem = fnb.find_element(By.XPATH, FNB_OPENING_HOURS_DETAILS_XPATH)\n",
    "                opening_hours = opening_hours_elem.get_attribute('aria-label')\n",
    "                opening_hours_dict = convert_opening_hours_to_dict(opening_hours)\n",
    "\n",
    "            except NoSuchElementException:\n",
    "\n",
    "                # CASE 3: FNB IS TEMPORARILY CLOSED OR PERMANENTLY CLOSED\n",
    "                try:\n",
    "                    opening_hours_dict = fnb.find_element(By.XPATH, FNB_OPENING_HOURS_CLOSED_XPATH).text\n",
    "\n",
    "                except NoSuchElementException:\n",
    "                    \n",
    "                    # CASE 4: NO OPENING HOURS STATED\n",
    "                    opening_hours_dict = 'Unknown'\n",
    "                pass\n",
    "            pass\n",
    "\n",
    "        try:\n",
    "            phone = fnb.find_element(By.XPATH, FNB_PHONE_XPATH).text\n",
    "        except NoSuchElementException:\n",
    "            phone = None\n",
    "            pass\n",
    "\n",
    "        try:\n",
    "            menu_url = fnb.find_element(By.XPATH, FNB_MENU_XPATH).get_attribute('href')\n",
    "        except NoSuchElementException:\n",
    "            menu_url = None\n",
    "            pass \n",
    "\n",
    "        try:\n",
    "            website_url = fnb.find_element(By.XPATH, FNB_WEBSITE_XPATH).get_attribute('href')\n",
    "        except NoSuchElementException:\n",
    "            website_url = None\n",
    "            pass \n",
    "        \n",
    "        try:\n",
    "            order_url = fnb.find_element(By.XPATH, FNB_ORDER_XPATH).get_attribute('href')\n",
    "        except NoSuchElementException:\n",
    "            order_url = None\n",
    "            pass \n",
    "\n",
    "        fnb_details = {\n",
    "            \"Name\": name,\n",
    "            \"Address\": address,\n",
    "            \"Opening Hours\": opening_hours_dict,\n",
    "            \"Phone\": phone,\n",
    "            \"Google Map Url\": google_map_url,\n",
    "            \"Menu Url\": menu_url,\n",
    "            \"Website Url\": website_url,\n",
    "            \"Order Url\": order_url\n",
    "        }\n",
    "        print(fnb_details)\n",
    "        #global fnb_list\n",
    "        fnb_list.append(fnb_details)"
   ]
  },
  {
   "cell_type": "code",
   "execution_count": 758,
   "metadata": {},
   "outputs": [],
   "source": [
    "def iterate_category(cateogry_list, location_list):\n",
    "    for category in cateogry_list:\n",
    "        for location in location_list:\n",
    "            search_input = f'{category} near {location}'\n",
    "            perform_search(search_input)\n",
    "            time.sleep(3)\n",
    "            #print('going to find result_element')\n",
    "            #result_element = WebDriverWait(driver, 10).until(\n",
    "            #    EC.presence_of_all_elements_located((By.CSS_SELECTOR,f\"div[aria-label='Results for {search_input}']\"))\n",
    "            #)\n",
    "            global result_element\n",
    "            result_element = driver.find_elements(By.CLASS_NAME, RESULT_CLASS_NAME)\n",
    "            #print(type(result_element))\n",
    "            print(len(result_element))\n",
    "            \n",
    "            get_fnb_details(result_element)\n",
    "            break\n",
    "        break"
   ]
  },
  {
   "cell_type": "code",
   "execution_count": 759,
   "metadata": {},
   "outputs": [
    {
     "name": "stdout",
     "output_type": "stream",
     "text": [
      "65\n",
      "{'Name': 'SY IMPERIAL (HALAL DIM SUM & STEAMBOAT RESTAURANT)', 'Address': '2A,NADAYU 28,DAGANG, Jalan PJS 11/7, Bandar Sunway, 47500 Subang Jaya, Selangor', 'Opening Hours': 'Temporarily closed', 'Phone': '011-7018 4299', 'Google Map Url': 'https://www.google.com/maps/place/SY+IMPERIAL+%28HALAL+DIM+SUM+%26+STEAMBOAT+RESTAURANT%29/data=!4m7!3m6!1s0x31cc4d1836890c5d:0x113c885985f63d1c!8m2!3d3.0706879!4d101.6026793!16s%2Fg%2F11s592r4zx!19sChIJXQyJNhhNzDERHD32hVmIPBE?authuser=0&hl=en&rclk=1', 'Menu Url': None, 'Website Url': 'https://letsumai.com/widget/sy-imperial', 'Order Url': None}\n",
      "{'Name': 'Desiran Cafe', 'Address': 'Jalan USJ 25/1F, One City, 47630 Subang Jaya, Selangor', 'Opening Hours': 'Temporarily closed', 'Phone': '017-499 4105', 'Google Map Url': 'https://www.google.com/maps/place/Desiran+Cafe/data=!4m7!3m6!1s0x31cdb3248cc0bddd:0xdfc49e83742b1e16!8m2!3d3.0212724!4d101.5792579!16s%2Fg%2F11cr_xlphh!19sChIJ3b3AjCSzzTERFh4rdIOexN8?authuser=0&hl=en&rclk=1', 'Menu Url': None, 'Website Url': None, 'Order Url': None}\n",
      "{'Name': 'Rasia Dim Sum House', 'Address': 'No.5, Regalia Business Centre, Jalan USJ 1/1b, 47620 Subang Jaya, Selangor', 'Opening Hours': 'Temporarily closed', 'Phone': '03-5892 5192', 'Google Map Url': 'https://www.google.com/maps/place/Rasia+Dim+Sum+House/data=!4m7!3m6!1s0x31cc4c9824fee17d:0xba83d7d8128053f!8m2!3d3.0558388!4d101.6049514!16s%2Fg%2F11gb3z5j57!19sChIJfeH-JJhMzDERPwUogX09qAs?authuser=0&hl=en&rclk=1', 'Menu Url': None, 'Website Url': 'https://www.facebook.com/rasiaCafe/', 'Order Url': None}\n",
      "{'Name': 'Az-Zain Alfalah Subang Jaya', 'Address': 'No. 3, Bazar Masjid Darul Ehsan, Jalan SS 15/2E, 47500 Subang Jaya, Selangor', 'Opening Hours': 'Permanently closed', 'Phone': '016-229 2702', 'Google Map Url': 'https://www.google.com/maps/place/Az-Zain+Alfalah+Subang+Jaya/data=!4m7!3m6!1s0x31cc4c5b929846ff:0x93fb787593a9d07d!8m2!3d3.080227!4d101.586591!16s%2Fg%2F11fyzcl_x3!19sChIJ_0aYkltMzDERfdCpk3V4-5M?authuser=0&hl=en&rclk=1', 'Menu Url': None, 'Website Url': None, 'Order Url': None}\n",
      "{'Name': 'Buttermilk Kitchen', 'Address': '9, Jalan SS 15/8b, Ss 15, 47500 Subang Jaya, Selangor', 'Opening Hours': {'Monday': '11:30 am to 9:30 pm', 'Tuesday': '11:30 am to 9:30 pm', 'Wednesday': '11:30 am to 9:30 pm', 'Thursday': '11:30 am to 9:30 pm', 'Friday': '11:30 am to 9:30 pm', 'Saturday': '11:30 am to 9:30 pm', 'Sunday': '11:30 am to 9:30 pm'}, 'Phone': '03-7496 7325', 'Google Map Url': 'https://www.google.com/maps/place/Buttermilk+Kitchen/data=!4m7!3m6!1s0x31cc4da34ebcdb73:0x600b8962f57bc81d!8m2!3d3.0746495!4d101.5867909!16s%2Fg%2F11ff0lkkr_!19sChIJc9u8TqNNzDERHch79WKJC2A?authuser=0&hl=en&rclk=1', 'Menu Url': 'https://buttermilkkitchen.beepit.com/', 'Website Url': 'https://www.instagram.com/buttermilkkitchenmy/?hl=en%20%20%20and%20%20%20https://www.facebook.com/buttermilkkitchenmy/', 'Order Url': 'https://buttermilkkitchen.beepit.com/'}\n",
      "{'Name': \"Johnny's Restaurant Summit USJ, Subang Jaya\", 'Address': 'Lot 53 Summit USJ Subang Jalan Kewajipan USJ 1, Taman Perindustrian Uep, 47600 Subang Jaya, Selangor', 'Opening Hours': {'Monday': '10 am to 10 pm', 'Tuesday': '10 am to 10 pm', 'Wednesday': '10 am to 10 pm', 'Thursday': '10 am to 10 pm', 'Friday': '10 am to 10 pm', 'Saturday': '10 am to 10 pm', 'Sunday': '10 am to 10 pm'}, 'Phone': '011-7000 5646', 'Google Map Url': 'https://www.google.com/maps/place/Johnny%27s+Restaurant+Summit+USJ,+Subang+Jaya/data=!4m7!3m6!1s0x31cc4c935bceee59:0xcc9d4fdadf6d131e!8m2!3d3.0603876!4d101.5937372!16s%2Fg%2F1w04gm0l!19sChIJWe7OW5NMzDERHhNt39pPncw?authuser=0&hl=en&rclk=1', 'Menu Url': None, 'Website Url': 'http://www.johnnyrestaurant.com/', 'Order Url': 'https://www.foodpanda.my/restaurant/s2gl/johnnys-restaurant-summit-usj?utm_source=google&utm_medium=organic&utm_campaign=google_reserve_place_order_action'}\n",
      "{'Name': 'Rojak SS15 Subang Jaya', 'Address': 'W-10-00 Business Park Subang Square West Wing Jalan SS15/4G, Jln SS 15/4G, Ss 15, 47500 Subang Jaya, Selangor', 'Opening Hours': {'Monday': '10 am to 7 pm', 'Tuesday': '10 am to 7 pm', 'Wednesday': '10 am to 7 pm', 'Thursday': '10 am to 7 pm', 'Friday': '10 am to 7 pm', 'Saturday': '10 am to 7 pm', 'Sunday': '10 am to 7 pm'}, 'Phone': '014-669 3786', 'Google Map Url': 'https://www.google.com/maps/place/Rojak+SS15+Subang+Jaya/data=!4m7!3m6!1s0x31cc4c5e98be68bf:0x21450bebb1ba7942!8m2!3d3.0782636!4d101.5893996!16s%2Fg%2F1tdyyg0n!19sChIJv2i-mF5MzDERQnm6sesLRSE?authuser=0&hl=en&rclk=1', 'Menu Url': None, 'Website Url': 'https://m.facebook.com/profile.php?id=103084791436958&ref=content_filter', 'Order Url': 'https://www.foodpanda.my/restaurant/nfsd/rojak-ss15-subang-jaya?utm_source=google&utm_medium=organic&utm_campaign=google_reserve_place_order_action'}\n",
      "{'Name': 'Sate Kajang Retro (Subang)', 'Address': 'NO.19-G, Jalan Usj Sentral 3, Usj sentral, 47600 Subang Jaya, Selangor', 'Opening Hours': {'Monday': '8 am to 10:30 pm', 'Tuesday': '8 am to 10:30 pm', 'Wednesday': '8 am to 10:30 pm', 'Thursday': '8 am to 10:30 pm', 'Friday': '8 am to 10:30 pm', 'Saturday': '8 am to 10:30 pm', 'Sunday': '8 am to 10:30 pm'}, 'Phone': '017-358 5446', 'Google Map Url': 'https://www.google.com/maps/place/Sate+Kajang+Retro+%28Subang%29/data=!4m7!3m6!1s0x31cc4cc765cee49f:0x2d51a0092c3aea38!8m2!3d3.0568518!4d101.5951212!16s%2Fg%2F11cjj_dyfp!19sChIJn-TOZcdMzDEROOo6LAmgUS0?authuser=0&hl=en&rclk=1', 'Menu Url': None, 'Website Url': None, 'Order Url': None}\n",
      "{'Name': 'The Chicken Rice Shop Subang Parade', 'Address': 'Lot LG 10G (1), Lower Ground Floor, 5, Jalan SS16/1, 47500 Subang Jaya, Selangor', 'Opening Hours': {'Monday': '10 am to 10 pm', 'Tuesday': '10 am to 10 pm', 'Wednesday': '10 am to 10 pm', 'Thursday': '10 am to 10 pm', 'Friday': '10 am to 10 pm', 'Saturday': '10 am to 10 pm', 'Sunday': '10 am to 10 pm'}, 'Phone': '03-5636 8241', 'Google Map Url': 'https://www.google.com/maps/place/The+Chicken+Rice+Shop+Subang+Parade/data=!4m7!3m6!1s0x31cc4c5af37a9f8d:0x626b51f2c4e0636e!8m2!3d3.0825627!4d101.5854458!16s%2Fg%2F113f8k4yn!19sChIJjZ9681pMzDERbmPgxPJRa2I?authuser=0&hl=en&rclk=1', 'Menu Url': None, 'Website Url': 'http://www.thechickenriceshop.com/', 'Order Url': 'https://www.foodpanda.my/restaurant/q2lx/the-chicken-rice-shop-subang-parade?utm_source=google&utm_medium=organic&utm_campaign=google_reserve_place_order_action'}\n"
     ]
    },
    {
     "ename": "KeyboardInterrupt",
     "evalue": "",
     "output_type": "error",
     "traceback": [
      "\u001b[0;31m---------------------------------------------------------------------------\u001b[0m",
      "\u001b[0;31mKeyboardInterrupt\u001b[0m                         Traceback (most recent call last)",
      "Cell \u001b[0;32mIn[759], line 1\u001b[0m\n\u001b[0;32m----> 1\u001b[0m \u001b[43miterate_category\u001b[49m\u001b[43m(\u001b[49m\u001b[43mFOOD_CATEGORY_LIST\u001b[49m\u001b[43m,\u001b[49m\u001b[43m \u001b[49m\u001b[43mLOCATION_LIST\u001b[49m\u001b[43m)\u001b[49m\n\u001b[1;32m      2\u001b[0m iterate_category(DRINK_CATEGORY_LIST, LOCATION_LIST)\n",
      "Cell \u001b[0;32mIn[758], line 16\u001b[0m, in \u001b[0;36miterate_category\u001b[0;34m(cateogry_list, location_list)\u001b[0m\n\u001b[1;32m     13\u001b[0m     \u001b[38;5;66;03m#print(type(result_element))\u001b[39;00m\n\u001b[1;32m     14\u001b[0m     \u001b[38;5;28mprint\u001b[39m(\u001b[38;5;28mlen\u001b[39m(result_element))\n\u001b[0;32m---> 16\u001b[0m     \u001b[43mget_fnb_details\u001b[49m\u001b[43m(\u001b[49m\u001b[43mresult_element\u001b[49m\u001b[43m)\u001b[49m\n\u001b[1;32m     17\u001b[0m     \u001b[38;5;28;01mbreak\u001b[39;00m\n\u001b[1;32m     18\u001b[0m \u001b[38;5;28;01mbreak\u001b[39;00m\n",
      "Cell \u001b[0;32mIn[757], line 19\u001b[0m, in \u001b[0;36mget_fnb_details\u001b[0;34m(result_element)\u001b[0m\n\u001b[1;32m     16\u001b[0m \u001b[38;5;28;01mtry\u001b[39;00m:\n\u001b[1;32m     17\u001b[0m     \u001b[38;5;66;03m# CASE 1: OPENING HOURS BUTTON IS POINTING DOWN\u001b[39;00m\n\u001b[1;32m     18\u001b[0m     opening_hours_btn_elem \u001b[38;5;241m=\u001b[39m fnb\u001b[38;5;241m.\u001b[39mfind_element(By\u001b[38;5;241m.\u001b[39mXPATH, FNB_OPENING_HOURS_BTN_DOWN_XPATH)\n\u001b[0;32m---> 19\u001b[0m     \u001b[43mtime\u001b[49m\u001b[38;5;241;43m.\u001b[39;49m\u001b[43msleep\u001b[49m\u001b[43m(\u001b[49m\u001b[38;5;241;43m1\u001b[39;49m\u001b[43m)\u001b[49m\n\u001b[1;32m     20\u001b[0m     opening_hours_btn_elem\u001b[38;5;241m.\u001b[39mclick()\n\u001b[1;32m     21\u001b[0m     time\u001b[38;5;241m.\u001b[39msleep(\u001b[38;5;241m1\u001b[39m)\n",
      "\u001b[0;31mKeyboardInterrupt\u001b[0m: "
     ]
    }
   ],
   "source": [
    "iterate_category(FOOD_CATEGORY_LIST, LOCATION_LIST)\n",
    "iterate_category(DRINK_CATEGORY_LIST, LOCATION_LIST)\n"
   ]
  },
  {
   "cell_type": "code",
   "execution_count": null,
   "metadata": {},
   "outputs": [
    {
     "name": "stdout",
     "output_type": "stream",
     "text": [
      "{'Name': 'SY IMPERIAL (HALAL DIM SUM & STEAMBOAT RESTAURANT)', 'Address': 'Lot 53 Summit USJ Subang Jalan Kewajipan USJ 1, Taman Perindustrian Uep, 47600 Subang Jaya, Selangor', 'Opening Hours': {'Monday': '10 am to 10 pm', 'Tuesday': '10 am to 10 pm', 'Wednesday': '10 am to 10 pm', 'Thursday': '10 am to 10 pm', 'Friday': '10 am to 10 pm', 'Saturday': '10 am to 10 pm', 'Sunday': '10 am to 10 pm'}, 'Phone': '011-7000 5646', 'Google Map Url': 'https://www.google.com/maps/place/SY+IMPERIAL+%28HALAL+DIM+SUM+%26+STEAMBOAT+RESTAURANT%29/data=!4m7!3m6!1s0x31cc4d1836890c5d:0x113c885985f63d1c!8m2!3d3.0706879!4d101.6026793!16s%2Fg%2F11s592r4zx!19sChIJXQyJNhhNzDERHD32hVmIPBE?authuser=0&hl=en&rclk=1', 'Menu Url': None, 'Website Url': 'http://www.johnnyrestaurant.com/', 'Order Url': 'https://www.foodpanda.my/restaurant/s2gl/johnnys-restaurant-summit-usj?utm_source=google&utm_medium=organic&utm_campaign=google_reserve_place_order_action'}\n"
     ]
    },
    {
     "ename": "IndexError",
     "evalue": "list index out of range",
     "output_type": "error",
     "traceback": [
      "\u001b[0;31m---------------------------------------------------------------------------\u001b[0m",
      "\u001b[0;31mIndexError\u001b[0m                                Traceback (most recent call last)",
      "Cell \u001b[0;32mIn[705], line 2\u001b[0m\n\u001b[1;32m      1\u001b[0m fnb_list \u001b[38;5;241m=\u001b[39m []\n\u001b[0;32m----> 2\u001b[0m \u001b[43mget_fnb_details\u001b[49m\u001b[43m(\u001b[49m\u001b[43mresult_element\u001b[49m\u001b[43m)\u001b[49m\n",
      "Cell \u001b[0;32mIn[704], line 24\u001b[0m, in \u001b[0;36mget_fnb_details\u001b[0;34m(result_element)\u001b[0m\n\u001b[1;32m     22\u001b[0m     opening_hours_elem \u001b[38;5;241m=\u001b[39m fnb\u001b[38;5;241m.\u001b[39mfind_element(By\u001b[38;5;241m.\u001b[39mXPATH, FNB_OPENING_HOURS_DETAILS_XPATH)\n\u001b[1;32m     23\u001b[0m     opening_hours \u001b[38;5;241m=\u001b[39m opening_hours_elem\u001b[38;5;241m.\u001b[39mget_attribute(\u001b[38;5;124m'\u001b[39m\u001b[38;5;124maria-label\u001b[39m\u001b[38;5;124m'\u001b[39m)\n\u001b[0;32m---> 24\u001b[0m     opening_hours_dict \u001b[38;5;241m=\u001b[39m \u001b[43mconvert_opening_hours_to_dict\u001b[49m\u001b[43m(\u001b[49m\u001b[43mopening_hours\u001b[49m\u001b[43m)\u001b[49m\n\u001b[1;32m     26\u001b[0m \u001b[38;5;28;01mexcept\u001b[39;00m NoSuchElementException:\n\u001b[1;32m     27\u001b[0m \n\u001b[1;32m     28\u001b[0m     \u001b[38;5;66;03m# CASE 2: OPENING HOURS BUTTON IS POINTING RIGHT\u001b[39;00m\n\u001b[1;32m     29\u001b[0m     \u001b[38;5;28;01mtry\u001b[39;00m:\n",
      "Cell \u001b[0;32mIn[700], line 7\u001b[0m, in \u001b[0;36mconvert_opening_hours_to_dict\u001b[0;34m(opening_hours)\u001b[0m\n\u001b[1;32m      3\u001b[0m day_parts \u001b[38;5;241m=\u001b[39m opening_hours\u001b[38;5;241m.\u001b[39mreplace(\u001b[38;5;124m'\u001b[39m\u001b[38;5;130;01m\\u202f\u001b[39;00m\u001b[38;5;124m'\u001b[39m, \u001b[38;5;124m'\u001b[39m\u001b[38;5;124m \u001b[39m\u001b[38;5;124m'\u001b[39m)\u001b[38;5;241m.\u001b[39mreplace(\u001b[38;5;124m'\u001b[39m\u001b[38;5;124m. Hide open hours for the week\u001b[39m\u001b[38;5;124m'\u001b[39m, \u001b[38;5;124m'\u001b[39m\u001b[38;5;124m'\u001b[39m)\u001b[38;5;241m.\u001b[39msplit(\u001b[38;5;124m'\u001b[39m\u001b[38;5;124m;\u001b[39m\u001b[38;5;124m'\u001b[39m)\n\u001b[1;32m      5\u001b[0m days_order \u001b[38;5;241m=\u001b[39m [\u001b[38;5;124m'\u001b[39m\u001b[38;5;124mMonday\u001b[39m\u001b[38;5;124m'\u001b[39m, \u001b[38;5;124m'\u001b[39m\u001b[38;5;124mTuesday\u001b[39m\u001b[38;5;124m'\u001b[39m, \u001b[38;5;124m'\u001b[39m\u001b[38;5;124mWednesday\u001b[39m\u001b[38;5;124m'\u001b[39m, \u001b[38;5;124m'\u001b[39m\u001b[38;5;124mThursday\u001b[39m\u001b[38;5;124m'\u001b[39m, \u001b[38;5;124m'\u001b[39m\u001b[38;5;124mFriday\u001b[39m\u001b[38;5;124m'\u001b[39m, \u001b[38;5;124m'\u001b[39m\u001b[38;5;124mSaturday\u001b[39m\u001b[38;5;124m'\u001b[39m, \u001b[38;5;124m'\u001b[39m\u001b[38;5;124mSunday\u001b[39m\u001b[38;5;124m'\u001b[39m]\n\u001b[0;32m----> 7\u001b[0m open_hours_dict \u001b[38;5;241m=\u001b[39m {\n\u001b[1;32m      8\u001b[0m     part\u001b[38;5;241m.\u001b[39msplit(\u001b[38;5;124m'\u001b[39m\u001b[38;5;124m,\u001b[39m\u001b[38;5;124m'\u001b[39m)[\u001b[38;5;241m0\u001b[39m]\u001b[38;5;241m.\u001b[39mstrip(): part\u001b[38;5;241m.\u001b[39msplit(\u001b[38;5;124m'\u001b[39m\u001b[38;5;124m,\u001b[39m\u001b[38;5;124m'\u001b[39m, \u001b[38;5;241m1\u001b[39m)[\u001b[38;5;241m1\u001b[39m]\u001b[38;5;241m.\u001b[39mstrip()\n\u001b[1;32m      9\u001b[0m     \u001b[38;5;28;01mfor\u001b[39;00m part \u001b[38;5;129;01min\u001b[39;00m day_parts\n\u001b[1;32m     10\u001b[0m }\n\u001b[1;32m     12\u001b[0m sorted_open_hours_dict \u001b[38;5;241m=\u001b[39m {day: open_hours_dict[day] \u001b[38;5;28;01mfor\u001b[39;00m day \u001b[38;5;129;01min\u001b[39;00m days_order \u001b[38;5;28;01mif\u001b[39;00m day \u001b[38;5;129;01min\u001b[39;00m open_hours_dict}\n\u001b[1;32m     14\u001b[0m \u001b[38;5;28;01mreturn\u001b[39;00m sorted_open_hours_dict\n",
      "Cell \u001b[0;32mIn[700], line 8\u001b[0m, in \u001b[0;36m<dictcomp>\u001b[0;34m(.0)\u001b[0m\n\u001b[1;32m      3\u001b[0m day_parts \u001b[38;5;241m=\u001b[39m opening_hours\u001b[38;5;241m.\u001b[39mreplace(\u001b[38;5;124m'\u001b[39m\u001b[38;5;130;01m\\u202f\u001b[39;00m\u001b[38;5;124m'\u001b[39m, \u001b[38;5;124m'\u001b[39m\u001b[38;5;124m \u001b[39m\u001b[38;5;124m'\u001b[39m)\u001b[38;5;241m.\u001b[39mreplace(\u001b[38;5;124m'\u001b[39m\u001b[38;5;124m. Hide open hours for the week\u001b[39m\u001b[38;5;124m'\u001b[39m, \u001b[38;5;124m'\u001b[39m\u001b[38;5;124m'\u001b[39m)\u001b[38;5;241m.\u001b[39msplit(\u001b[38;5;124m'\u001b[39m\u001b[38;5;124m;\u001b[39m\u001b[38;5;124m'\u001b[39m)\n\u001b[1;32m      5\u001b[0m days_order \u001b[38;5;241m=\u001b[39m [\u001b[38;5;124m'\u001b[39m\u001b[38;5;124mMonday\u001b[39m\u001b[38;5;124m'\u001b[39m, \u001b[38;5;124m'\u001b[39m\u001b[38;5;124mTuesday\u001b[39m\u001b[38;5;124m'\u001b[39m, \u001b[38;5;124m'\u001b[39m\u001b[38;5;124mWednesday\u001b[39m\u001b[38;5;124m'\u001b[39m, \u001b[38;5;124m'\u001b[39m\u001b[38;5;124mThursday\u001b[39m\u001b[38;5;124m'\u001b[39m, \u001b[38;5;124m'\u001b[39m\u001b[38;5;124mFriday\u001b[39m\u001b[38;5;124m'\u001b[39m, \u001b[38;5;124m'\u001b[39m\u001b[38;5;124mSaturday\u001b[39m\u001b[38;5;124m'\u001b[39m, \u001b[38;5;124m'\u001b[39m\u001b[38;5;124mSunday\u001b[39m\u001b[38;5;124m'\u001b[39m]\n\u001b[1;32m      7\u001b[0m open_hours_dict \u001b[38;5;241m=\u001b[39m {\n\u001b[0;32m----> 8\u001b[0m     part\u001b[38;5;241m.\u001b[39msplit(\u001b[38;5;124m'\u001b[39m\u001b[38;5;124m,\u001b[39m\u001b[38;5;124m'\u001b[39m)[\u001b[38;5;241m0\u001b[39m]\u001b[38;5;241m.\u001b[39mstrip(): \u001b[43mpart\u001b[49m\u001b[38;5;241;43m.\u001b[39;49m\u001b[43msplit\u001b[49m\u001b[43m(\u001b[49m\u001b[38;5;124;43m'\u001b[39;49m\u001b[38;5;124;43m,\u001b[39;49m\u001b[38;5;124;43m'\u001b[39;49m\u001b[43m,\u001b[49m\u001b[43m \u001b[49m\u001b[38;5;241;43m1\u001b[39;49m\u001b[43m)\u001b[49m\u001b[43m[\u001b[49m\u001b[38;5;241;43m1\u001b[39;49m\u001b[43m]\u001b[49m\u001b[38;5;241m.\u001b[39mstrip()\n\u001b[1;32m      9\u001b[0m     \u001b[38;5;28;01mfor\u001b[39;00m part \u001b[38;5;129;01min\u001b[39;00m day_parts\n\u001b[1;32m     10\u001b[0m }\n\u001b[1;32m     12\u001b[0m sorted_open_hours_dict \u001b[38;5;241m=\u001b[39m {day: open_hours_dict[day] \u001b[38;5;28;01mfor\u001b[39;00m day \u001b[38;5;129;01min\u001b[39;00m days_order \u001b[38;5;28;01mif\u001b[39;00m day \u001b[38;5;129;01min\u001b[39;00m open_hours_dict}\n\u001b[1;32m     14\u001b[0m \u001b[38;5;28;01mreturn\u001b[39;00m sorted_open_hours_dict\n",
      "\u001b[0;31mIndexError\u001b[0m: list index out of range"
     ]
    }
   ],
   "source": [
    "fnb_list = []\n",
    "get_fnb_details(result_element)"
   ]
  },
  {
   "cell_type": "code",
   "execution_count": null,
   "metadata": {},
   "outputs": [],
   "source": [
    "driver.quit()\n"
   ]
  },
  {
   "cell_type": "code",
   "execution_count": 760,
   "metadata": {},
   "outputs": [
    {
     "data": {
      "text/plain": [
       "0                                                                                                                                                                                                                                 Temporarily closed\n",
       "1                                                                                                                                                                                                                                 Temporarily closed\n",
       "2                                                                                                                                                                                                                                 Temporarily closed\n",
       "3                                                                                                                                                                                                                                 Permanently closed\n",
       "4    {'Monday': '11:30 am to 9:30 pm', 'Tuesday': '11:30 am to 9:30 pm', 'Wednesday': '11:30 am to 9:30 pm', 'Thursday': '11:30 am to 9:30 pm', 'Friday': '11:30 am to 9:30 pm', 'Saturday': '11:30 am to 9:30 pm', 'Sunday': '11:30 am to 9:30 pm'}\n",
       "5                                       {'Monday': '10 am to 10 pm', 'Tuesday': '10 am to 10 pm', 'Wednesday': '10 am to 10 pm', 'Thursday': '10 am to 10 pm', 'Friday': '10 am to 10 pm', 'Saturday': '10 am to 10 pm', 'Sunday': '10 am to 10 pm'}\n",
       "6                                              {'Monday': '10 am to 7 pm', 'Tuesday': '10 am to 7 pm', 'Wednesday': '10 am to 7 pm', 'Thursday': '10 am to 7 pm', 'Friday': '10 am to 7 pm', 'Saturday': '10 am to 7 pm', 'Sunday': '10 am to 7 pm'}\n",
       "7                         {'Monday': '8 am to 10:30 pm', 'Tuesday': '8 am to 10:30 pm', 'Wednesday': '8 am to 10:30 pm', 'Thursday': '8 am to 10:30 pm', 'Friday': '8 am to 10:30 pm', 'Saturday': '8 am to 10:30 pm', 'Sunday': '8 am to 10:30 pm'}\n",
       "8                                       {'Monday': '10 am to 10 pm', 'Tuesday': '10 am to 10 pm', 'Wednesday': '10 am to 10 pm', 'Thursday': '10 am to 10 pm', 'Friday': '10 am to 10 pm', 'Saturday': '10 am to 10 pm', 'Sunday': '10 am to 10 pm'}\n",
       "Name: Opening Hours, dtype: object"
      ]
     },
     "execution_count": 760,
     "metadata": {},
     "output_type": "execute_result"
    }
   ],
   "source": [
    "pd.set_option('display.max_colwidth', None)\n",
    "pd.set_option('display.max_rows', None)\n",
    "df = pd.DataFrame(fnb_list)\n",
    "df['Opening Hours']\n"
   ]
  },
  {
   "cell_type": "code",
   "execution_count": null,
   "metadata": {},
   "outputs": [],
   "source": [
    "text = df['Opening Hours'].iloc[2]"
   ]
  }
 ],
 "metadata": {
  "kernelspec": {
   "display_name": "afr",
   "language": "python",
   "name": "python3"
  },
  "language_info": {
   "codemirror_mode": {
    "name": "ipython",
    "version": 3
   },
   "file_extension": ".py",
   "mimetype": "text/x-python",
   "name": "python",
   "nbconvert_exporter": "python",
   "pygments_lexer": "ipython3",
   "version": "3.10.13"
  }
 },
 "nbformat": 4,
 "nbformat_minor": 2
}
