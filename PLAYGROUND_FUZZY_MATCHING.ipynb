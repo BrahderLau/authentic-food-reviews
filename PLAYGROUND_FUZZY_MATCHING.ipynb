{
 "cells": [
  {
   "cell_type": "code",
   "execution_count": 53,
   "metadata": {},
   "outputs": [],
   "source": [
    "# Install all the necessary python libraries if anaconda is not able to find them.\n"
   ]
  },
  {
   "cell_type": "code",
   "execution_count": 3,
   "metadata": {},
   "outputs": [],
   "source": [
    "# Import all the necessary python libraries\n",
    "import re\n",
    "import pandas as pd\n",
    "from tqdm import tqdm\n",
    "tqdm.pandas()  # Enable pandas integration\n",
    "import numpy as np\n",
    "from thefuzz import fuzz\n",
    "# Reference: https://www.datacamp.com/tutorial/fuzzy-string-python"
   ]
  },
  {
   "cell_type": "code",
   "execution_count": 1,
   "metadata": {},
   "outputs": [],
   "source": [
    "fnb_list = [\n",
    "    'BananaBro @Kota Damansara (HALAL Certified)',\n",
    "    'BananaBro Bandar Sri Permaisuri (Halal Certified)',\n",
    "    'BananaBro Cheras Leisure Mall (Halal Certified)',\n",
    "    'BananaBro Citta Mall (Halal Certified)',\n",
    "    'BananaBro Damansara Utama (Halal Certified)',\n",
    "    'BananaBro IOI Mall Puchong (Halal Certified)',\n",
    "    'BananaBro Paradigm Mall PJ',\n",
    "    'BananaBro Subang Parade'\n",
    "]"
   ]
  },
  {
   "cell_type": "code",
   "execution_count": 2,
   "metadata": {},
   "outputs": [],
   "source": [
    "premis_makanan_list = [\n",
    "    \"BANANA BRO TIMES SQUARE\",\n",
    "    \"BANANABRO - KOTA DAMANSARA\",\n",
    "    \"BANANABRO AEON KOTA BHARU\",\n",
    "    \"BANANABRO AU2\",\n",
    "    \"BANANABRO BANDAR SRI PERMAISURI\",\n",
    "    \"BANANABRO BANDAR SRI PUTRA\",\n",
    "    \"BANANABRO CHERAS LEISURE MALL\",\n",
    "    \"BANANABRO D'PULZE\",\n",
    "    \"BANANABRO EAST COAST MALL\",\n",
    "    \"BANANABRO GARDEN MALL\",\n",
    "    \"BANANABRO KL EAST MALL\",\n",
    "    \"BANANABRO MYTOWN\",\n",
    "    \"BANANABRO SRI GOMBAK\",\n",
    "    \"BANANABRO SUNWAY PUTRA MALL\",\n",
    "    \"BANANABRO SUNWAY PYRAMID\"\n",
    "]"
   ]
  },
  {
   "cell_type": "code",
   "execution_count": 15,
   "metadata": {},
   "outputs": [
    {
     "name": "stdout",
     "output_type": "stream",
     "text": [
      "Token set ratio similarity score: 100\n",
      "Token sort ratio similarity score: 89\n",
      "Partial ratio similarity score: 87\n",
      "Simple ratio similarity score: 87\n"
     ]
    }
   ],
   "source": [
    "fnb_address = \"25-1, Jalan PJU 5/9, Dataran Sunway, Kota Damansara, 47810 Petaling Jaya, Selangor\"\n",
    "fnb_address = fnb_address.upper()\n",
    "premis_address = \"25-1 JALAN PJU 5/9 DATARAN SUNWAY KOTA DAMANSARA, PETALING JAYA\"\n",
    "\n",
    "print(f\"Token set ratio similarity score: {fuzz.token_set_ratio(fnb_address, premis_address)}\")\n",
    "\n",
    "print(f\"Token sort ratio similarity score: {fuzz.token_sort_ratio(fnb_address, premis_address)}\")\n",
    "\n",
    "print(f\"Partial ratio similarity score: {fuzz.partial_ratio(fnb_address, premis_address)}\")\n",
    "\n",
    "print(f\"Simple ratio similarity score: {fuzz.ratio(fnb_address, premis_address)}\")"
   ]
  },
  {
   "cell_type": "code",
   "execution_count": 20,
   "metadata": {},
   "outputs": [
    {
     "name": "stdout",
     "output_type": "stream",
     "text": [
      "Comparing:\n",
      "FNB Address: BananaBro @Kota Damansara (HALAL Certified)\n",
      "Premis Address: BANANABRO - KOTA DAMANSARA\n",
      "\n",
      "Token set ratio similarity score: 100\n",
      "Token sort ratio similarity score: 75\n",
      "Partial ratio similarity score: 23\n",
      "Simple ratio similarity score: 23\n",
      "\n",
      "\n",
      "Comparing:\n",
      "FNB Address: BananaBro Bandar Sri Permaisuri (Halal Certified)\n",
      "Premis Address: BANANABRO BANDAR SRI PERMAISURI\n",
      "\n",
      "Token set ratio similarity score: 100\n",
      "Token sort ratio similarity score: 79\n",
      "Partial ratio similarity score: 26\n",
      "Simple ratio similarity score: 20\n",
      "\n",
      "\n",
      "Comparing:\n",
      "FNB Address: BananaBro Cheras Leisure Mall (Halal Certified)\n",
      "Premis Address: BANANABRO CHERAS LEISURE MALL\n",
      "\n",
      "Token set ratio similarity score: 100\n",
      "Token sort ratio similarity score: 78\n",
      "Partial ratio similarity score: 28\n",
      "Simple ratio similarity score: 21\n",
      "\n",
      "\n"
     ]
    }
   ],
   "source": [
    "for premis_makanan in premis_makanan_list:\n",
    "    # For each premis name, compare with each fnb address\n",
    "    for fnb in fnb_list:\n",
    "        # Calculate similarity scores using different fuzzywuzzy methods\n",
    "        token_set_ratio_score = fuzz.token_set_ratio(fnb, premis_makanan)\n",
    "        token_sort_ratio_score = fuzz.token_sort_ratio(fnb, premis_makanan)\n",
    "        partial_ratio_score = fuzz.partial_ratio(fnb, premis_makanan)\n",
    "        simple_ratio_score = fuzz.ratio(fnb, premis_makanan)\n",
    "        \n",
    "        if (token_set_ratio_score >= 90 or token_sort_ratio_score >= 90 or\n",
    "            partial_ratio_score >= 90 or simple_ratio_score >= 90):\n",
    "            # Print the scores (this is just an example, you might want to store these in a data structure)\n",
    "            print(f\"Comparing:\\nFNB Address: {fnb}\\nPremis Address: {premis_makanan}\")\n",
    "            print('')\n",
    "            print(f\"Token set ratio similarity score: {token_set_ratio_score}\")\n",
    "            print(f\"Token sort ratio similarity score: {token_sort_ratio_score}\")\n",
    "            print(f\"Partial ratio similarity score: {partial_ratio_score}\")\n",
    "            print(f\"Simple ratio similarity score: {simple_ratio_score}\\n\")\n",
    "            print('')"
   ]
  },
  {
   "cell_type": "code",
   "execution_count": 22,
   "metadata": {},
   "outputs": [
    {
     "name": "stdout",
     "output_type": "stream",
     "text": [
      "FNB Name: BananaBro @Kota Damansara (HALAL Certified)\n",
      "Best Premis Name Match: BANANABRO - KOTA DAMANSARA with score 100\n",
      "\n",
      "FNB Name: BananaBro Bandar Sri Permaisuri (Halal Certified)\n",
      "Best Premis Name Match: BANANABRO BANDAR SRI PERMAISURI with score 100\n",
      "\n",
      "FNB Name: BananaBro Cheras Leisure Mall (Halal Certified)\n",
      "Best Premis Name Match: BANANABRO CHERAS LEISURE MALL with score 100\n",
      "\n"
     ]
    }
   ],
   "source": [
    "from fuzzywuzzy import process\n",
    "\n",
    "matches = []  # To store potential matches\n",
    "\n",
    "# Set a threshold for considering a match\n",
    "THRESHOLD = 90\n",
    "\n",
    "for fnb in fnb_list:\n",
    "    best_match = process.extractOne(fnb, premis_makanan_list, scorer=fuzz.token_set_ratio)\n",
    "    if best_match and best_match[1] >= THRESHOLD:\n",
    "        matches.append((fnb, best_match[0], best_match[1]))\n",
    "\n",
    "# Example: Print the first few matches to verify\n",
    "for match in matches[:5]:\n",
    "    print(f\"FNB Name: {match[0]}\")\n",
    "    print(f\"Best Premis Name Match: {match[1]} with score {match[2]}\\n\")\n"
   ]
  },
  {
   "cell_type": "code",
   "execution_count": 27,
   "metadata": {},
   "outputs": [],
   "source": [
    "# Function to find the first two numbers in the address\n",
    "def find_first_number(address):\n",
    "    match = re.search(r'\\d+', address)\n",
    "    return int(match.group()) if match else None\n",
    "\n",
    "def find_first_two_numbers(address):\n",
    "    matches = re.findall(r'\\d+', address)\n",
    "    return matches[:2] if len(matches) >= 2 else None\n"
   ]
  },
  {
   "cell_type": "code",
   "execution_count": 26,
   "metadata": {},
   "outputs": [
    {
     "name": "stdout",
     "output_type": "stream",
     "text": [
      "65\n",
      "47800\n"
     ]
    }
   ],
   "source": [
    "str1 = \"Lot CC-65A, Concourse Floor, Tropicana Gardens Mall, No, 2A, Persiaran Surian, Tropicana Indah, 47810 Petaling Jaya, Selangor\"\n",
    "str2 = \"LOT CC, CONCOURSE FLOOR, NO A, 47800PERSIARAN SURIAN, TROPICANA INDAH\"\n",
    "\n",
    "print(find_first_number(str1))\n",
    "print(find_first_number(str2))"
   ]
  },
  {
   "cell_type": "code",
   "execution_count": 28,
   "metadata": {},
   "outputs": [
    {
     "name": "stdout",
     "output_type": "stream",
     "text": [
      "['1', '52']\n",
      "None\n",
      "False\n",
      "1\n",
      "1\n",
      "True\n"
     ]
    }
   ],
   "source": [
    "# Testing\n",
    "\n",
    "str1= \"PJ PALMS SPORT CENTRE, NO 1, LORONG SULTAN, PJS 52, 46000 PETALING JAYA, SELANGOR\"\n",
    "str2= \"PJ PALMS SPORT CENTRE NO 1 LORONG SULTAN PETALING JAYA\"\n",
    "res1 = find_first_two_numbers(str1)\n",
    "print(res1)\n",
    "res2 = find_first_two_numbers(str2)\n",
    "print(res2)\n",
    "print(res1 == res2)\n",
    "res1 = find_first_number(str1)\n",
    "print(res1)\n",
    "res2 = find_first_number(str2)\n",
    "print(res2)\n",
    "print(res1 == res2)"
   ]
  },
  {
   "cell_type": "code",
   "execution_count": 29,
   "metadata": {},
   "outputs": [
    {
     "name": "stdout",
     "output_type": "stream",
     "text": [
      "180\n",
      "51\n",
      "yes\n"
     ]
    }
   ],
   "source": [
    "str1 = \"Baskin-Robbins @ Aeon Taman Maluri Lot G13B, Ground Floor, AEON Taman Maluri Shopping Centre Jalan Jejaka Taman Maluri Cheras, 55100 Kuala Lumpur, Federal Territory of Kuala Lumpur\"\n",
    "str2 = \"AEON TAMAN MALURI JALAN JEJAKA, TAMAN MALURI CHERAS\"\n",
    "\n",
    "print(len(str1))\n",
    "print(len(str2))\n",
    "\n",
    "if len(str1)/3 > len(str2):\n",
    "    print('yes')\n",
    "else:\n",
    "    print('no')"
   ]
  }
 ],
 "metadata": {
  "kernelspec": {
   "display_name": "afr",
   "language": "python",
   "name": "python3"
  },
  "language_info": {
   "codemirror_mode": {
    "name": "ipython",
    "version": 3
   },
   "file_extension": ".py",
   "mimetype": "text/x-python",
   "name": "python",
   "nbconvert_exporter": "python",
   "pygments_lexer": "ipython3",
   "version": "3.10.13"
  }
 },
 "nbformat": 4,
 "nbformat_minor": 2
}
